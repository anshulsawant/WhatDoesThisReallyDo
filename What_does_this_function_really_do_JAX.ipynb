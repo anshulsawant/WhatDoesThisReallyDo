{
  "nbformat": 4,
  "nbformat_minor": 0,
  "metadata": {
    "colab": {
      "provenance": [],
      "gpuType": "V100",
      "authorship_tag": "ABX9TyM/CKLV/yg/bSFdR9CU7QZ+",
      "include_colab_link": true
    },
    "kernelspec": {
      "name": "python3",
      "display_name": "Python 3"
    },
    "language_info": {
      "name": "python"
    },
    "accelerator": "GPU"
  },
  "cells": [
    {
      "cell_type": "markdown",
      "metadata": {
        "id": "view-in-github",
        "colab_type": "text"
      },
      "source": [
        "<a href=\"https://colab.research.google.com/github/anshulsawant/WhatDoesThisReallyDo/blob/main/What_does_this_function_really_do_JAX.ipynb\" target=\"_parent\"><img src=\"https://colab.research.google.com/assets/colab-badge.svg\" alt=\"Open In Colab\"/></a>"
      ]
    },
    {
      "cell_type": "code",
      "source": [
        "## My attempt to address my biggest numpy fear: I assume that this function is processing stuff in some way,\n",
        "## but what if it isn't. I hope this is not going to come crashing down.\n",
        "import jax\n",
        "from jax import numpy as np"
      ],
      "metadata": {
        "id": "JUm1VqVNRdQT"
      },
      "execution_count": 1,
      "outputs": []
    },
    {
      "cell_type": "code",
      "execution_count": 14,
      "metadata": {
        "colab": {
          "base_uri": "https://localhost:8080/"
        },
        "id": "cVPIT3JPRVb-",
        "outputId": "6c646d73-6079-458d-a72e-6be10743a0a6"
      },
      "outputs": [
        {
          "output_type": "execute_result",
          "data": {
            "text/plain": [
              "(Array([[ 1,  3,  5],\n",
              "        [ 7,  9, 11]], dtype=int32),\n",
              " Array([[ 0,  2,  4],\n",
              "        [ 6,  8, 10]], dtype=int32),\n",
              " Array([[ 1,  2,  5],\n",
              "        [ 6,  9, 10]], dtype=int32))"
            ]
          },
          "metadata": {},
          "execution_count": 14
        }
      ],
      "source": [
        "## jax.lax.select\n",
        "x = np.reshape(np.arange(6)*2 + 1, (2,3))\n",
        "y = np.reshape(np.arange(6)*2, (2,3))\n",
        "p = np.reshape(np.array([True, False, True, False, True, False]), (2,3))\n",
        "z = jax.lax.select(p, x, y)\n",
        "\n",
        "## Another possible way to select. Is this always true?\n",
        "assert np.all(z == x*p + y*(1-p))\n",
        "x,y,z"
      ]
    },
    {
      "cell_type": "markdown",
      "source": [
        "# JAX vmap"
      ],
      "metadata": {
        "id": "5yWyOQHNgVR7"
      }
    },
    {
      "cell_type": "code",
      "source": [
        "## jax.vmap\n",
        "def dot(x, y):\n",
        "  return np.sum(x*y)\n",
        "\n",
        "def mult(X, Y):\n",
        "  return X@Y\n",
        "\n",
        "def mult_einsum(X, Y):\n",
        "  return np.einsum('ij,kj -> ik', X, Y)\n",
        "\n",
        "mult = jax.jit(mult)\n",
        "mult_einsum = jax.jit(mult_einsum)\n",
        "\n",
        "X = np.reshape(np.repeat(np.arange(10), 100000), (1000,-1))\n",
        "Y = np.reshape(np.repeat(np.arange(10), 100000), (1000,-1))\n",
        "\n",
        "mv = jax.vmap(dot, in_axes=(0, None))\n",
        "mm = jax.jit(jax.vmap(mv, in_axes=(None, 0)))\n",
        "\n",
        "Y_t = Y.transpose()\n",
        "X.shape, np.all(mm(X,Y) == mult(X, Y_t)), np.all(mm(X,Y) == mult_einsum(X,Y))"
      ],
      "metadata": {
        "colab": {
          "base_uri": "https://localhost:8080/"
        },
        "id": "MVpE2TrCoRQ4",
        "outputId": "6c2de714-de38-4070-fc73-d3a5c5e03c18"
      },
      "execution_count": 52,
      "outputs": [
        {
          "output_type": "execute_result",
          "data": {
            "text/plain": [
              "((1000, 1000), Array(True, dtype=bool), Array(True, dtype=bool))"
            ]
          },
          "metadata": {},
          "execution_count": 52
        }
      ]
    },
    {
      "cell_type": "code",
      "source": [
        "%%timeit\n",
        "mm(X,Y)"
      ],
      "metadata": {
        "colab": {
          "base_uri": "https://localhost:8080/"
        },
        "id": "kYs1HM5oQrgv",
        "outputId": "758683b0-6ae6-4350-db70-d2812618a147"
      },
      "execution_count": 32,
      "outputs": [
        {
          "output_type": "stream",
          "name": "stdout",
          "text": [
            "1.54 ms ± 407 ns per loop (mean ± std. dev. of 7 runs, 1000 loops each)\n"
          ]
        }
      ]
    },
    {
      "cell_type": "code",
      "source": [
        "%%timeit\n",
        "np.matmul(X, Y_t)"
      ],
      "metadata": {
        "colab": {
          "base_uri": "https://localhost:8080/"
        },
        "id": "Jhvtwt10Q6RW",
        "outputId": "fe64781e-5264-4bd6-d6c8-7ee743c45d6d"
      },
      "execution_count": 31,
      "outputs": [
        {
          "output_type": "stream",
          "name": "stdout",
          "text": [
            "1.38 ms ± 91.5 ns per loop (mean ± std. dev. of 7 runs, 1000 loops each)\n"
          ]
        }
      ]
    },
    {
      "cell_type": "code",
      "source": [
        "%%timeit\n",
        "mult_einsum(X, Y)"
      ],
      "metadata": {
        "colab": {
          "base_uri": "https://localhost:8080/"
        },
        "id": "I6HERLbwSiZa",
        "outputId": "6baebc0b-bf7e-4575-c491-65f2df3cb723"
      },
      "execution_count": 30,
      "outputs": [
        {
          "output_type": "stream",
          "name": "stdout",
          "text": [
            "2.5 ms ± 10 µs per loop (mean ± std. dev. of 7 runs, 100 loops each)\n"
          ]
        }
      ]
    },
    {
      "cell_type": "code",
      "source": [
        "f = lambda x, y : x + y\n",
        "S = jax.jit(jax.vmap(f, in_axes=(1, 2)))\n",
        "\"\"\"\n",
        "Args:\n",
        "  x: shape (m x n x p)\n",
        "  y: shape (m x p x n)\n",
        "Returns:\n",
        "  Array z of shape m x n x p x q where z(i, j, k, l) = x[i, j, k, 1] + y[i, 1, j, k]\n",
        "\"\"\"\n",
        "x = np.reshape(np.arange(24), (2,3, 4))\n",
        "y = np.reshape(np.arange(2*3*4), (2, 4, 3))\n",
        "S(x,y), x[:,0,:], y[:,:,0]"
      ],
      "metadata": {
        "colab": {
          "base_uri": "https://localhost:8080/"
        },
        "id": "hQ9w4dRvhN2n",
        "outputId": "0ab019ee-dc1d-4cd7-c780-2c8d53e9c998"
      },
      "execution_count": 51,
      "outputs": [
        {
          "output_type": "execute_result",
          "data": {
            "text/plain": [
              "(Array([[[ 0,  4,  8, 12],\n",
              "         [24, 28, 32, 36]],\n",
              " \n",
              "        [[ 5,  9, 13, 17],\n",
              "         [29, 33, 37, 41]],\n",
              " \n",
              "        [[10, 14, 18, 22],\n",
              "         [34, 38, 42, 46]]], dtype=int32),\n",
              " Array([[ 0,  1,  2,  3],\n",
              "        [12, 13, 14, 15]], dtype=int32),\n",
              " Array([[ 0,  3,  6,  9],\n",
              "        [12, 15, 18, 21]], dtype=int32))"
            ]
          },
          "metadata": {},
          "execution_count": 51
        }
      ]
    }
  ]
}