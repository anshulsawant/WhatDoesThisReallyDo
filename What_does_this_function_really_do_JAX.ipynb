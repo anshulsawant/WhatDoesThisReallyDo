{
  "nbformat": 4,
  "nbformat_minor": 0,
  "metadata": {
    "colab": {
      "provenance": [],
      "authorship_tag": "ABX9TyMTD1qVy8UjGtNDyWz8Rcf6",
      "include_colab_link": true
    },
    "kernelspec": {
      "name": "python3",
      "display_name": "Python 3"
    },
    "language_info": {
      "name": "python"
    }
  },
  "cells": [
    {
      "cell_type": "markdown",
      "metadata": {
        "id": "view-in-github",
        "colab_type": "text"
      },
      "source": [
        "<a href=\"https://colab.research.google.com/github/anshulsawant/WhatDoesThisReallyDo/blob/main/What_does_this_function_really_do_JAX.ipynb\" target=\"_parent\"><img src=\"https://colab.research.google.com/assets/colab-badge.svg\" alt=\"Open In Colab\"/></a>"
      ]
    },
    {
      "cell_type": "code",
      "source": [
        "## My attempt to address my biggest numpy fear: I assume that this function is processing stuff in some way, but what if it isn't. I hope this is not going to come crashing down.\n",
        "import jax\n",
        "from jax import numpy as np"
      ],
      "metadata": {
        "id": "JUm1VqVNRdQT"
      },
      "execution_count": 1,
      "outputs": []
    },
    {
      "cell_type": "code",
      "execution_count": 13,
      "metadata": {
        "colab": {
          "base_uri": "https://localhost:8080/"
        },
        "id": "cVPIT3JPRVb-",
        "outputId": "d049a6f2-a6df-40c1-fd69-ef4bc51af53f"
      },
      "outputs": [
        {
          "output_type": "execute_result",
          "data": {
            "text/plain": [
              "(Array([[ 1,  3,  5],\n",
              "        [ 7,  9, 11]], dtype=int32),\n",
              " Array([[ 0,  2,  4],\n",
              "        [ 6,  8, 10]], dtype=int32),\n",
              " Array([[ 1,  2,  5],\n",
              "        [ 6,  9, 10]], dtype=int32))"
            ]
          },
          "metadata": {},
          "execution_count": 13
        }
      ],
      "source": [
        "## jax.lax.select\n",
        "x = np.reshape(np.arange(6)*2 + 1, (2,3))\n",
        "y = np.reshape(np.arange(6)*2, (2,3))\n",
        "p = np.reshape(np.array([True, False, True, False, True, False]), (2,3))\n",
        "z = jax.lax.select(p, x, y)\n",
        "assert np.all(z == x*p + y*(1-p))\n",
        "x,y,z"
      ]
    }
  ]
}