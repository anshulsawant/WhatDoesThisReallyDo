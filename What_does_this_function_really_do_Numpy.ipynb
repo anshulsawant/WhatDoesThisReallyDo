{
  "nbformat": 4,
  "nbformat_minor": 0,
  "metadata": {
    "colab": {
      "provenance": [],
      "authorship_tag": "ABX9TyNImDDZ/1UGlFnlfn53IPLT",
      "include_colab_link": true
    },
    "kernelspec": {
      "name": "python3",
      "display_name": "Python 3"
    },
    "language_info": {
      "name": "python"
    }
  },
  "cells": [
    {
      "cell_type": "markdown",
      "metadata": {
        "id": "view-in-github",
        "colab_type": "text"
      },
      "source": [
        "<a href=\"https://colab.research.google.com/github/anshulsawant/WhatDoesThisReallyDo/blob/main/What_does_this_function_really_do_Numpy.ipynb\" target=\"_parent\"><img src=\"https://colab.research.google.com/assets/colab-badge.svg\" alt=\"Open In Colab\"/></a>"
      ]
    },
    {
      "cell_type": "code",
      "source": [
        "## My attempt to address my biggest numpy fear: I assume that this function is processing stuff in some way, but what if it isn't. I hope this is not going to come crashing down.\n",
        "\n",
        "import numpy as np"
      ],
      "metadata": {
        "id": "JUm1VqVNRdQT"
      },
      "execution_count": 2,
      "outputs": []
    },
    {
      "cell_type": "code",
      "execution_count": 15,
      "metadata": {
        "colab": {
          "base_uri": "https://localhost:8080/"
        },
        "id": "cVPIT3JPRVb-",
        "outputId": "46553b41-269f-4737-988a-d27e9ca1d458"
      },
      "outputs": [
        {
          "output_type": "stream",
          "name": "stdout",
          "text": [
            "[ 0  1  2  3  4  5  6  7  8  9 10 11 12 13 14 15 16 17 18 19 20 21 22 23]\n",
            "[[ 0  1  2  3]\n",
            " [ 4  5  6  7]\n",
            " [ 8  9 10 11]\n",
            " [12 13 14 15]\n",
            " [16 17 18 19]\n",
            " [20 21 22 23]]\n",
            "[[ 0  6 12 18]\n",
            " [ 1  7 13 19]\n",
            " [ 2  8 14 20]\n",
            " [ 3  9 15 21]\n",
            " [ 4 10 16 22]\n",
            " [ 5 11 17 23]]\n",
            "[[[ 0  1  2  3]\n",
            "  [ 4  5  6  7]\n",
            "  [ 8  9 10 11]]\n",
            "\n",
            " [[12 13 14 15]\n",
            "  [16 17 18 19]\n",
            "  [20 21 22 23]]]\n",
            "[[[ 0  6 12 18]\n",
            "  [ 2  8 14 20]\n",
            "  [ 4 10 16 22]]\n",
            "\n",
            " [[ 1  7 13 19]\n",
            "  [ 3  9 15 21]\n",
            "  [ 5 11 17 23]]]\n",
            "[[[[ 0  1]\n",
            "   [ 2  3]]\n",
            "\n",
            "  [[ 4  5]\n",
            "   [ 6  7]]\n",
            "\n",
            "  [[ 8  9]\n",
            "   [10 11]]]\n",
            "\n",
            "\n",
            " [[[12 13]\n",
            "   [14 15]]\n",
            "\n",
            "  [[16 17]\n",
            "   [18 19]]\n",
            "\n",
            "  [[20 21]\n",
            "   [22 23]]]]\n",
            "[[[[ 0  2]\n",
            "   [ 1  3]]\n",
            "\n",
            "  [[ 4  6]\n",
            "   [ 5  7]]\n",
            "\n",
            "  [[ 8 10]\n",
            "   [ 9 11]]]\n",
            "\n",
            "\n",
            " [[[12 14]\n",
            "   [13 15]]\n",
            "\n",
            "  [[16 18]\n",
            "   [17 19]]\n",
            "\n",
            "  [[20 22]\n",
            "   [21 23]]]]\n"
          ]
        }
      ],
      "source": [
        "## What does reshape REALLY do\n",
        "x = np.arange(24)\n",
        "print(x)\n",
        "print(x.reshape((6, 4)))\n",
        "print(x.reshape((6,4), order='F'))\n",
        "print(x.reshape((2,3,4), order='C')) ## last index changing fastest (default)\n",
        "print(x.reshape((2,3,4), order='F')) ## first index changing fastest\n",
        "print(x.reshape((2,3,4)).reshape((2,3,2,2)))\n",
        "print(x.reshape((2,3,4)).reshape((2,3,2,2), order='F'))\n",
        "## From numpy docs\n",
        "## The order keyword gives the index ordering both for fetching the values from a, and then placing the values into the output array. For example, let’s say you have an array:\n",
        "## You can think of reshaping as first raveling the array (using the given index order), then inserting the elements from the raveled array into the new array using the same kind of index ordering as was used for the raveling.\n",
        "## Last index changing fastest => 0 -> (0, 0, 0); 1 -> (0, 0, 1); 2 -> (0, 0, 2) ...\n",
        "## First index changing fastest => 0 -> (0, 0, 0); 1 -> (1, 0, 0); 2 -> (0, 1, 0); 3 -> (3, 0, 0); 4 -> () ...\n",
        "## With first index changing faster, last index will change every 6th element. (0, 0, 0) -> 0; (0, 0, 1) -> 6;...\n",
        "## The middle inded will change every 2nd element\n",
        "## The first index will change every element."
      ]
    },
    {
      "cell_type": "code",
      "source": [
        "## What does multi dimensional transpose really do\n",
        "x = np.arange(24)\n",
        "y = x.reshape((2,3,4)) ## Batch size x sequence length x embedding dim\n",
        "print(y)\n",
        "z = y.reshape((2,3,2,2)) ## Each embedding is split into 2 (n_heads) embeddings of size 2 (embedding dim//n_heads)\n",
        "print(z)\n",
        "## Each split is assigned to n_heads (2) arrays of size sequence length x (embedding_dim//n_heads)\n",
        "print(z.transpose((0, 2, 1, 3))) ## Batch size x n_heads x sequence_length x (embedding dim//n_heads)\n",
        "z[0,:,:,:].reshape((-1)) == y[0,:,:].reshape((-1)) ## Each batch will contain exactly the same elements as it is untouched\n"
      ],
      "metadata": {
        "colab": {
          "base_uri": "https://localhost:8080/"
        },
        "id": "RmxHqt-NKreV",
        "outputId": "5d4878ef-529b-4b0c-b99e-179cd08b9826"
      },
      "execution_count": 19,
      "outputs": [
        {
          "output_type": "stream",
          "name": "stdout",
          "text": [
            "[[[ 0  1  2  3]\n",
            "  [ 4  5  6  7]\n",
            "  [ 8  9 10 11]]\n",
            "\n",
            " [[12 13 14 15]\n",
            "  [16 17 18 19]\n",
            "  [20 21 22 23]]]\n",
            "[[[[ 0  1]\n",
            "   [ 2  3]]\n",
            "\n",
            "  [[ 4  5]\n",
            "   [ 6  7]]\n",
            "\n",
            "  [[ 8  9]\n",
            "   [10 11]]]\n",
            "\n",
            "\n",
            " [[[12 13]\n",
            "   [14 15]]\n",
            "\n",
            "  [[16 17]\n",
            "   [18 19]]\n",
            "\n",
            "  [[20 21]\n",
            "   [22 23]]]]\n",
            "[[[[ 0  1]\n",
            "   [ 4  5]\n",
            "   [ 8  9]]\n",
            "\n",
            "  [[ 2  3]\n",
            "   [ 6  7]\n",
            "   [10 11]]]\n",
            "\n",
            "\n",
            " [[[12 13]\n",
            "   [16 17]\n",
            "   [20 21]]\n",
            "\n",
            "  [[14 15]\n",
            "   [18 19]\n",
            "   [22 23]]]]\n"
          ]
        },
        {
          "output_type": "execute_result",
          "data": {
            "text/plain": [
              "array([ True,  True,  True,  True,  True,  True,  True,  True,  True,\n",
              "        True,  True,  True])"
            ]
          },
          "metadata": {},
          "execution_count": 19
        }
      ]
    },
    {
      "cell_type": "code",
      "source": [
        "## Multidimensional matrix multiplication\n",
        "x = np.arange(24).reshape((2,3,4))\n",
        "y = np.arange(101, 125).reshape((2,4,3))\n",
        "print(x)\n",
        "print(y)\n",
        "print(x @ y)\n",
        "\n",
        "## Hadamard product\n",
        "print('Hadamard')\n",
        "x = np.arange(6).reshape((2,3))\n",
        "y = np.arange(12).reshape((2,2,3))\n",
        "print(x)\n",
        "print(y)\n",
        "print (x*y)"
      ],
      "metadata": {
        "id": "e-_633d6feG_",
        "outputId": "b241f423-7a7e-4f92-9409-d7b3e40cf2e2",
        "colab": {
          "base_uri": "https://localhost:8080/"
        }
      },
      "execution_count": 4,
      "outputs": [
        {
          "output_type": "stream",
          "name": "stdout",
          "text": [
            "[[[ 0  1  2  3]\n",
            "  [ 4  5  6  7]\n",
            "  [ 8  9 10 11]]\n",
            "\n",
            " [[12 13 14 15]\n",
            "  [16 17 18 19]\n",
            "  [20 21 22 23]]]\n",
            "[[[101 102 103]\n",
            "  [104 105 106]\n",
            "  [107 108 109]\n",
            "  [110 111 112]]\n",
            "\n",
            " [[113 114 115]\n",
            "  [116 117 118]\n",
            "  [119 120 121]\n",
            "  [122 123 124]]]\n",
            "[[[  648   654   660]\n",
            "  [ 2336  2358  2380]\n",
            "  [ 4024  4062  4100]]\n",
            "\n",
            " [[ 6360  6414  6468]\n",
            "  [ 8240  8310  8380]\n",
            "  [10120 10206 10292]]]\n",
            "Hadamard\n",
            "[[0 1 2]\n",
            " [3 4 5]]\n",
            "[[[ 0  1  2]\n",
            "  [ 3  4  5]]\n",
            "\n",
            " [[ 6  7  8]\n",
            "  [ 9 10 11]]]\n",
            "[[[ 0  1  4]\n",
            "  [ 9 16 25]]\n",
            "\n",
            " [[ 0  7 16]\n",
            "  [27 40 55]]]\n"
          ]
        }
      ]
    }
  ]
}