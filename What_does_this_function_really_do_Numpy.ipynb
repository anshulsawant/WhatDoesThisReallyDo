{
  "nbformat": 4,
  "nbformat_minor": 0,
  "metadata": {
    "colab": {
      "provenance": [],
      "authorship_tag": "ABX9TyNAUK/H7UnTK7h8KBV1ZXXb",
      "include_colab_link": true
    },
    "kernelspec": {
      "name": "python3",
      "display_name": "Python 3"
    },
    "language_info": {
      "name": "python"
    }
  },
  "cells": [
    {
      "cell_type": "markdown",
      "metadata": {
        "id": "view-in-github",
        "colab_type": "text"
      },
      "source": [
        "<a href=\"https://colab.research.google.com/github/anshulsawant/WhatDoesThisReallyDo/blob/main/What_does_this_function_really_do_Numpy.ipynb\" target=\"_parent\"><img src=\"https://colab.research.google.com/assets/colab-badge.svg\" alt=\"Open In Colab\"/></a>"
      ]
    },
    {
      "cell_type": "code",
      "source": [
        "## My attempt to address my biggest numpy fear: I assume that this function is processing stuff in some way, but what if it isn't. I hope this is not going to come crashing down.\n",
        "\n",
        "import numpy as np"
      ],
      "metadata": {
        "id": "JUm1VqVNRdQT"
      },
      "execution_count": 3,
      "outputs": []
    },
    {
      "cell_type": "code",
      "execution_count": 10,
      "metadata": {
        "colab": {
          "base_uri": "https://localhost:8080/"
        },
        "id": "cVPIT3JPRVb-",
        "outputId": "fd6ed140-5e52-4b45-ccf9-0b4247ed0472"
      },
      "outputs": [
        {
          "output_type": "stream",
          "name": "stdout",
          "text": [
            "[ 0  1  2  3  4  5  6  7  8  9 10 11 12 13 14 15 16 17 18 19 20 21 22 23]\n",
            "[[[ 0  1  2  3]\n",
            "  [ 4  5  6  7]\n",
            "  [ 8  9 10 11]]\n",
            "\n",
            " [[12 13 14 15]\n",
            "  [16 17 18 19]\n",
            "  [20 21 22 23]]]\n",
            "[[[ 0  6 12 18]\n",
            "  [ 2  8 14 20]\n",
            "  [ 4 10 16 22]]\n",
            "\n",
            " [[ 1  7 13 19]\n",
            "  [ 3  9 15 21]\n",
            "  [ 5 11 17 23]]]\n",
            "[[[[ 0  1]\n",
            "   [ 2  3]]\n",
            "\n",
            "  [[ 4  5]\n",
            "   [ 6  7]]\n",
            "\n",
            "  [[ 8  9]\n",
            "   [10 11]]]\n",
            "\n",
            "\n",
            " [[[12 13]\n",
            "   [14 15]]\n",
            "\n",
            "  [[16 17]\n",
            "   [18 19]]\n",
            "\n",
            "  [[20 21]\n",
            "   [22 23]]]]\n",
            "[[[[ 0  2]\n",
            "   [ 1  3]]\n",
            "\n",
            "  [[ 4  6]\n",
            "   [ 5  7]]\n",
            "\n",
            "  [[ 8 10]\n",
            "   [ 9 11]]]\n",
            "\n",
            "\n",
            " [[[12 14]\n",
            "   [13 15]]\n",
            "\n",
            "  [[16 18]\n",
            "   [17 19]]\n",
            "\n",
            "  [[20 22]\n",
            "   [21 23]]]]\n"
          ]
        }
      ],
      "source": [
        "## What does reshape REALLY do\n",
        "x = np.arange(24)\n",
        "print(x)\n",
        "print(x.reshape((2,3,4), order='C')) ## last index changing fastest (default)\n",
        "print(x.reshape((2,3,4), order='F')) ## first index changing fastest\n",
        "print(x.reshape((2,3,4)).reshape((2,3,2,2)))\n",
        "print(x.reshape((2,3,4)).reshape((2,3,2,2), order='F'))\n",
        "## From numpy docs\n",
        "## The order keyword gives the index ordering both for fetching the values from a, and then placing the values into the output array. For example, let’s say you have an array:\n",
        "## You can think of reshaping as first raveling the array (using the given index order), then inserting the elements from the raveled array into the new array using the same kind of index ordering as was used for the raveling."
      ]
    }
  ]
}